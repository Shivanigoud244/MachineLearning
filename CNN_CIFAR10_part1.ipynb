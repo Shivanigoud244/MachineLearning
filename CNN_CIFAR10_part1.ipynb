{
  "nbformat": 4,
  "nbformat_minor": 0,
  "metadata": {
    "colab": {
      "provenance": [],
      "authorship_tag": "ABX9TyPlvZAmrcdlU1RFtnVAyYnV",
      "include_colab_link": true
    },
    "kernelspec": {
      "name": "python3",
      "display_name": "Python 3"
    },
    "language_info": {
      "name": "python"
    }
  },
  "cells": [
    {
      "cell_type": "markdown",
      "metadata": {
        "id": "view-in-github",
        "colab_type": "text"
      },
      "source": [
        "<a href=\"https://colab.research.google.com/github/Shivanigoud244/MachineLearning/blob/master/CNN_CIFAR10_part1.ipynb\" target=\"_parent\"><img src=\"https://colab.research.google.com/assets/colab-badge.svg\" alt=\"Open In Colab\"/></a>"
      ]
    },
    {
      "cell_type": "code",
      "execution_count": 29,
      "metadata": {
        "id": "NugBE9FByj5u"
      },
      "outputs": [],
      "source": [
        "import torch\n",
        "import torch.nn as nn\n",
        "import numpy as np\n",
        "import matplotlib.pyplot as plt\n"
      ]
    },
    {
      "cell_type": "code",
      "source": [
        "import torchvision"
      ],
      "metadata": {
        "id": "ohtDfSa_ytDU"
      },
      "execution_count": 30,
      "outputs": []
    },
    {
      "cell_type": "code",
      "source": [
        "trainset = torchvision.datasets.CIFAR10(root='./data',train=True,download=True,transform=torchvision.transforms.ToTensor())"
      ],
      "metadata": {
        "colab": {
          "base_uri": "https://localhost:8080/"
        },
        "id": "iK19xUK0yzT4",
        "outputId": "99106f82-d307-473b-ec72-79e3b6485636"
      },
      "execution_count": 31,
      "outputs": [
        {
          "output_type": "stream",
          "name": "stdout",
          "text": [
            "Files already downloaded and verified\n"
          ]
        }
      ]
    },
    {
      "cell_type": "code",
      "source": [
        "#class_labels\n",
        "classes = ('airplane','automobile','bird','cat','deer','dog','frog','horse','ship','truck')"
      ],
      "metadata": {
        "id": "iM5E5cW7znAd"
      },
      "execution_count": 32,
      "outputs": []
    },
    {
      "cell_type": "code",
      "source": [
        "type(trainset)"
      ],
      "metadata": {
        "colab": {
          "base_uri": "https://localhost:8080/"
        },
        "id": "av9_Qy_U0BNy",
        "outputId": "11cadde3-2519-48a2-a400-a8dde5e72cf4"
      },
      "execution_count": 33,
      "outputs": [
        {
          "output_type": "execute_result",
          "data": {
            "text/plain": [
              "torchvision.datasets.cifar.CIFAR10"
            ]
          },
          "metadata": {},
          "execution_count": 33
        }
      ]
    },
    {
      "cell_type": "code",
      "source": [
        "# loading the dataset --> dataloader class ( torch.utils.data.dataloader)\n",
        "\n",
        "trainloader = torch.utils.data.DataLoader(trainset)"
      ],
      "metadata": {
        "id": "-PnuS0rk0F3t"
      },
      "execution_count": 34,
      "outputs": []
    },
    {
      "cell_type": "code",
      "source": [
        "data_iter = iter(trainloader)\n",
        "type(data_iter)"
      ],
      "metadata": {
        "colab": {
          "base_uri": "https://localhost:8080/"
        },
        "id": "VuXi66_u0Ti4",
        "outputId": "22c4b62f-c9fb-4ec7-d992-92b34b5fcb1a"
      },
      "execution_count": 35,
      "outputs": [
        {
          "output_type": "execute_result",
          "data": {
            "text/plain": [
              "torch.utils.data.dataloader._SingleProcessDataLoaderIter"
            ]
          },
          "metadata": {},
          "execution_count": 35
        }
      ]
    },
    {
      "cell_type": "code",
      "source": [
        "# Access the data --> next() method\n",
        "\n",
        "images,labels = data_iter.next()\n",
        "print(images.shape)"
      ],
      "metadata": {
        "colab": {
          "base_uri": "https://localhost:8080/"
        },
        "id": "2Wl6L-AR0fnX",
        "outputId": "eaf9e95a-4078-4f66-cf22-baaee5da05ba"
      },
      "execution_count": 36,
      "outputs": [
        {
          "output_type": "stream",
          "name": "stdout",
          "text": [
            "torch.Size([1, 3, 32, 32])\n"
          ]
        }
      ]
    },
    {
      "cell_type": "markdown",
      "source": [
        "1 - Batch size\n",
        "\n",
        "3 - channels in input( RGB - color)\n",
        "\n",
        "32,32 - each pixels /shapes of indivdual image"
      ],
      "metadata": {
        "id": "4mHeln4O0zN4"
      }
    },
    {
      "cell_type": "code",
      "source": [
        "print(labels.item())"
      ],
      "metadata": {
        "colab": {
          "base_uri": "https://localhost:8080/"
        },
        "id": "GyVuebYP0gFI",
        "outputId": "03f1c0e3-29b3-4cab-863a-5134a65ebb55"
      },
      "execution_count": 37,
      "outputs": [
        {
          "output_type": "stream",
          "name": "stdout",
          "text": [
            "6\n"
          ]
        }
      ]
    },
    {
      "cell_type": "code",
      "source": [
        "classes[labels.item()]"
      ],
      "metadata": {
        "colab": {
          "base_uri": "https://localhost:8080/",
          "height": 36
        },
        "id": "wSupk3Sg0Rrk",
        "outputId": "ecbf099f-eb79-43ea-bdcb-89c8b2dbcac0"
      },
      "execution_count": 38,
      "outputs": [
        {
          "output_type": "execute_result",
          "data": {
            "text/plain": [
              "'frog'"
            ],
            "application/vnd.google.colaboratory.intrinsic+json": {
              "type": "string"
            }
          },
          "metadata": {},
          "execution_count": 38
        }
      ]
    },
    {
      "cell_type": "code",
      "source": [],
      "metadata": {
        "id": "LKP0yy7J1v2s"
      },
      "execution_count": 38,
      "outputs": []
    },
    {
      "cell_type": "code",
      "source": [
        "# Specifying batch_size, shuffle & load data in paralell using multiprocessing workes\n",
        "\n",
        "trainloader = torch.utils.data.DataLoader(trainset,batch_size = 4, shuffle = True)\n",
        "data_iter = iter(trainloader)\n",
        "images,labels=data_iter.next()"
      ],
      "metadata": {
        "id": "bAUlRFi21SD-"
      },
      "execution_count": 39,
      "outputs": []
    },
    {
      "cell_type": "code",
      "source": [
        "print(images.shape)"
      ],
      "metadata": {
        "colab": {
          "base_uri": "https://localhost:8080/"
        },
        "id": "GrFsHAz41qWD",
        "outputId": "0442bfdc-c0ba-4d4a-b62f-9e3473b31996"
      },
      "execution_count": 40,
      "outputs": [
        {
          "output_type": "stream",
          "name": "stdout",
          "text": [
            "torch.Size([4, 3, 32, 32])\n"
          ]
        }
      ]
    },
    {
      "cell_type": "markdown",
      "source": [
        "4 - Batch Size( no of images loaded)\n",
        "3 = Channels input\n",
        "32,32 - size of individualimage"
      ],
      "metadata": {
        "id": "ZZ8mjUPJ1wjh"
      }
    },
    {
      "cell_type": "code",
      "source": [
        "labels"
      ],
      "metadata": {
        "colab": {
          "base_uri": "https://localhost:8080/"
        },
        "id": "btCRMiHT16tY",
        "outputId": "81684f5d-e0e4-49f4-b675-1e2ccd986ae8"
      },
      "execution_count": 41,
      "outputs": [
        {
          "output_type": "execute_result",
          "data": {
            "text/plain": [
              "tensor([6, 6, 8, 9])"
            ]
          },
          "metadata": {},
          "execution_count": 41
        }
      ]
    },
    {
      "cell_type": "code",
      "source": [],
      "metadata": {
        "id": "nv0Rcef12A2b"
      },
      "execution_count": 41,
      "outputs": []
    },
    {
      "cell_type": "markdown",
      "source": [
        "# Visualize the Data\n"
      ],
      "metadata": {
        "id": "axzLLc4Mzeef"
      }
    },
    {
      "cell_type": "code",
      "source": [
        "image_data = images[0]\n",
        "image_data.shape"
      ],
      "metadata": {
        "colab": {
          "base_uri": "https://localhost:8080/"
        },
        "id": "0M4W1MjX2M1U",
        "outputId": "653b57f7-82d3-4993-c45a-65fb03d70e41"
      },
      "execution_count": 42,
      "outputs": [
        {
          "output_type": "execute_result",
          "data": {
            "text/plain": [
              "torch.Size([3, 32, 32])"
            ]
          },
          "metadata": {},
          "execution_count": 42
        }
      ]
    },
    {
      "cell_type": "code",
      "source": [
        "# onvert to numpy, image data is req as 32,32,3 as number of channels in image will in last index, torch doesn't have in built so converting it into numpay\n",
        "\n",
        "np_image = image_data.numpy()\n",
        "np_image.shape"
      ],
      "metadata": {
        "colab": {
          "base_uri": "https://localhost:8080/"
        },
        "id": "cDa6db902aSv",
        "outputId": "e80dd0c4-892e-4f9b-bdf3-ec53203a74e2"
      },
      "execution_count": 43,
      "outputs": [
        {
          "output_type": "execute_result",
          "data": {
            "text/plain": [
              "(3, 32, 32)"
            ]
          },
          "metadata": {},
          "execution_count": 43
        }
      ]
    },
    {
      "cell_type": "code",
      "source": [
        "np_image = np.transpose(np_image,(1,2,0))"
      ],
      "metadata": {
        "id": "Xi413nsb2vIM"
      },
      "execution_count": 44,
      "outputs": []
    },
    {
      "cell_type": "code",
      "source": [
        "np_image.shape"
      ],
      "metadata": {
        "colab": {
          "base_uri": "https://localhost:8080/"
        },
        "id": "Wz-NpypW21-B",
        "outputId": "8312c5f6-8736-4fcc-e272-81da59dd654f"
      },
      "execution_count": 45,
      "outputs": [
        {
          "output_type": "execute_result",
          "data": {
            "text/plain": [
              "(32, 32, 3)"
            ]
          },
          "metadata": {},
          "execution_count": 45
        }
      ]
    },
    {
      "cell_type": "code",
      "source": [
        "# plotting the image\n",
        "\n",
        "plt.figure(figsize = (2,2))\n",
        "plt.imshow(np_image)\n",
        "plt.show()"
      ],
      "metadata": {
        "colab": {
          "base_uri": "https://localhost:8080/",
          "height": 159
        },
        "id": "3xYEW_o-25WN",
        "outputId": "337ab1b3-b15c-44ae-c66f-1503db239fdd"
      },
      "execution_count": 46,
      "outputs": [
        {
          "output_type": "display_data",
          "data": {
            "text/plain": [
              "<Figure size 144x144 with 1 Axes>"
            ],
            "image/png": "[encoded data removed]"
          },
          "metadata": {
            "needs_background": "light"
          }
        }
      ]
    },
    {
      "cell_type": "code",
      "source": [
        "print(classes[labels[0].item()])"
      ],
      "metadata": {
        "colab": {
          "base_uri": "https://localhost:8080/"
        },
        "id": "qVmRHGoG3EgR",
        "outputId": "225f80dc-a26b-460d-e9f7-399f403802a9"
      },
      "execution_count": 47,
      "outputs": [
        {
          "output_type": "stream",
          "name": "stdout",
          "text": [
            "frog\n"
          ]
        }
      ]
    },
    {
      "cell_type": "code",
      "source": [
        "def image_show(image_data):\n",
        "  np_image = image_data.numpy()\n",
        "  np_image = np.transpose(np_image,(1,2,0))\n",
        "  plt.figure(figsize=(2,3))\n",
        "  plt.imshow(np_image)\n",
        "  plt.show()"
      ],
      "metadata": {
        "id": "ukBXGg-q3Jc9"
      },
      "execution_count": 48,
      "outputs": []
    },
    {
      "cell_type": "code",
      "source": [
        "image_show(images[1])"
      ],
      "metadata": {
        "colab": {
          "base_uri": "https://localhost:8080/",
          "height": 162
        },
        "id": "0hKuEVLP3hPC",
        "outputId": "b7627fef-ed7a-4cd6-80a9-f025f982e5c0"
      },
      "execution_count": 49,
      "outputs": [
        {
          "output_type": "display_data",
          "data": {
            "text/plain": [
              "<Figure size 144x216 with 1 Axes>"
            ],
            "image/png": "[encoded data removed]"
          },
          "metadata": {
            "needs_background": "light"
          }
        }
      ]
    },
    {
      "cell_type": "code",
      "source": [
        "print(classes[labels[1].item()])"
      ],
      "metadata": {
        "colab": {
          "base_uri": "https://localhost:8080/"
        },
        "id": "aoYKb0G63lVc",
        "outputId": "1d471ec9-d8e7-46a5-a5cb-2692e8ba0f61"
      },
      "execution_count": 50,
      "outputs": [
        {
          "output_type": "stream",
          "name": "stdout",
          "text": [
            "frog\n"
          ]
        }
      ]
    },
    {
      "cell_type": "code",
      "source": [],
      "metadata": {
        "id": "CcawN0135LZz"
      },
      "execution_count": null,
      "outputs": []
    },
    {
      "cell_type": "markdown",
      "source": [
        "# First Convolution Layer"
      ],
      "metadata": {
        "id": "on-k8ffo5NEF"
      }
    },
    {
      "cell_type": "code",
      "source": [
        "class FirstCNN(nn.Module):\n",
        "  def __init__(self):\n",
        "    super(FirstCNN,self).__init__()\n",
        "    self.conv1 = nn.Conv2d(3,10,3) # ( n0 of input channels,no of output channels, kernel size )\n",
        "    # kernel size --> 3 = (3,3)\n",
        "\n",
        "  def forward(self,x):\n",
        "    y =self.conv1(x)\n",
        "    return y"
      ],
      "metadata": {
        "id": "F7obbZcQ5WPi"
      },
      "execution_count": 53,
      "outputs": []
    },
    {
      "cell_type": "code",
      "source": [
        "cnn = FirstCNN()"
      ],
      "metadata": {
        "id": "DZaUXxxZ6AUh"
      },
      "execution_count": 54,
      "outputs": []
    },
    {
      "cell_type": "code",
      "source": [],
      "metadata": {
        "id": "eiMJDRCR7IE5"
      },
      "execution_count": null,
      "outputs": []
    },
    {
      "cell_type": "code",
      "source": [
        "out = cnn(images)"
      ],
      "metadata": {
        "id": "L41HHTVq54Qg"
      },
      "execution_count": 55,
      "outputs": []
    },
    {
      "cell_type": "code",
      "source": [
        "print(out.shape)"
      ],
      "metadata": {
        "colab": {
          "base_uri": "https://localhost:8080/"
        },
        "id": "AaA5nXBi6HHn",
        "outputId": "18d2d4c8-fd64-4e19-bd5e-3af7a7499541"
      },
      "execution_count": 56,
      "outputs": [
        {
          "output_type": "stream",
          "name": "stdout",
          "text": [
            "torch.Size([4, 10, 30, 30])\n"
          ]
        }
      ]
    },
    {
      "cell_type": "markdown",
      "source": [
        "4 : number of images(batch siez)\n",
        "\n",
        "10: channels in output\n",
        "\n",
        "30 , 30 --> piels image size\n",
        "\n",
        "Default\n",
        "\n",
        "Padding = (0,0) , stride = (1,1)"
      ],
      "metadata": {
        "id": "t6-4WeqJ6Kfl"
      }
    },
    {
      "cell_type": "code",
      "source": [
        "sample = out[0,0,:,:]\n",
        "sample.shape"
      ],
      "metadata": {
        "colab": {
          "base_uri": "https://localhost:8080/"
        },
        "id": "zSbZXiJL5VSZ",
        "outputId": "92033674-7507-4360-8e75-ee2cabe0b3f2"
      },
      "execution_count": 58,
      "outputs": [
        {
          "output_type": "execute_result",
          "data": {
            "text/plain": [
              "torch.Size([30, 30])"
            ]
          },
          "metadata": {},
          "execution_count": 58
        }
      ]
    },
    {
      "cell_type": "code",
      "source": [
        "plt.imshow(sample.detach().numpy())\n",
        "plt.show()"
      ],
      "metadata": {
        "colab": {
          "base_uri": "https://localhost:8080/",
          "height": 266
        },
        "id": "DhFUTyED6o3w",
        "outputId": "0c87f15c-5833-4ff2-ad26-a079c217cfd6"
      },
      "execution_count": 60,
      "outputs": [
        {
          "output_type": "display_data",
          "data": {
            "text/plain": [
              "<Figure size 432x288 with 1 Axes>"
            ],
            "image/png": "[encoded data removed]"
          },
          "metadata": {
            "needs_background": "light"
          }
        }
      ]
    },
    {
      "cell_type": "code",
      "source": [
        "class FirstCNN(nn.Module):\n",
        "  def __init__(self):\n",
        "    super(FirstCNN,self).__init__()\n",
        "    self.conv1 = nn.Conv2d(3,10,3,padding = (1,1),stride = (1,1)) # ( n0 of input channels,no of output channels, kernel size )\n",
        "    # kernel size --> 3 = (3,3)\n",
        "\n",
        "  def forward(self,x):\n",
        "    y =self.conv1(x)\n",
        "    return y"
      ],
      "metadata": {
        "id": "HjhV8EvH69AN"
      },
      "execution_count": 62,
      "outputs": []
    },
    {
      "cell_type": "code",
      "source": [
        "cnn = FirstCNN()\n",
        "\n",
        "out = cnn(images)\n",
        "\n",
        "print(out.shape)"
      ],
      "metadata": {
        "colab": {
          "base_uri": "https://localhost:8080/"
        },
        "id": "BRDFM0cU7Jwi",
        "outputId": "6889e37f-859a-4c14-d729-c2b95ed7de11"
      },
      "execution_count": 63,
      "outputs": [
        {
          "output_type": "stream",
          "name": "stdout",
          "text": [
            "torch.Size([4, 10, 32, 32])\n"
          ]
        }
      ]
    },
    {
      "cell_type": "code",
      "source": [],
      "metadata": {
        "id": "qKEDPHAI7cVi"
      },
      "execution_count": null,
      "outputs": []
    },
    {
      "cell_type": "markdown",
      "source": [
        "# Deep Convolution network\n"
      ],
      "metadata": {
        "id": "I80crAgW7dPW"
      }
    },
    {
      "cell_type": "code",
      "source": [
        "class DeepCNN(nn.Module):\n",
        "  def __init__(self):\n",
        "    super(DeepCNN,self).__init__()\n",
        "    self.model=nn.Sequential(nn.Conv2d(3,10,3,padding=(1,1),stride=(1,1)),nn.Conv2d(10,5,3,padding=(1,1),stride=(1,1)))\n",
        "\n",
        "  def forward(self,x):\n",
        "    y=self.model(x)\n",
        "    return y"
      ],
      "metadata": {
        "id": "GohBL_lz7j3V"
      },
      "execution_count": 64,
      "outputs": []
    },
    {
      "cell_type": "code",
      "source": [
        "deep = DeepCNN()\n",
        "out = deep(images)\n",
        "print(out.shape)"
      ],
      "metadata": {
        "colab": {
          "base_uri": "https://localhost:8080/"
        },
        "id": "JBwY6QJ48jYG",
        "outputId": "8dbeb7db-f090-4036-8a24-412530bb075f"
      },
      "execution_count": 65,
      "outputs": [
        {
          "output_type": "stream",
          "name": "stdout",
          "text": [
            "torch.Size([4, 5, 32, 32])\n"
          ]
        }
      ]
    },
    {
      "cell_type": "code",
      "source": [],
      "metadata": {
        "id": "7ABZjCu69hFv"
      },
      "execution_count": null,
      "outputs": []
    },
    {
      "cell_type": "code",
      "source": [
        "sample = out[0,1,:,:]\n",
        "plt.figure(figsize=(2,2))\n",
        "plt.imshow(sample.detach().numpy())\n",
        "plt.show()\n"
      ],
      "metadata": {
        "colab": {
          "base_uri": "https://localhost:8080/",
          "height": 159
        },
        "id": "F3eSozNX8sOR",
        "outputId": "52fbb292-1148-4375-daa5-b5f9dfe360d3"
      },
      "execution_count": 66,
      "outputs": [
        {
          "output_type": "display_data",
          "data": {
            "text/plain": [
              "<Figure size 144x144 with 1 Axes>"
            ],
            "image/png": "[encoded data removed]"
          },
          "metadata": {
            "needs_background": "light"
          }
        }
      ]
    },
    {
      "cell_type": "code",
      "source": [
        "# pooling\n",
        "#Mean pool or AVg pool and Max pool\n",
        "\n",
        "\n",
        "class avg_pool(nn.Module):\n",
        "  def __init__(self):\n",
        "    super(avg_pool,self).__init__()\n",
        "    self.model=nn.Sequential(nn.Conv2d(3,10,3,padding=(1,1),stride=(1,1)),nn.Conv2d(10,5,3,padding=(1,1),\n",
        "                                                                                    stride=(1,1)),nn.AvgPool2d(2, stride = 2))# kernel size, stride\n",
        "\n",
        "  def forward(self,x):\n",
        "    y=self.model(x)\n",
        "    return y"
      ],
      "metadata": {
        "id": "YQ1dz_uL8-mM"
      },
      "execution_count": 67,
      "outputs": []
    },
    {
      "cell_type": "code",
      "source": [
        "abgpool = avg_pool()\n",
        "out = abgpool(images)\n",
        "print(out.shape)"
      ],
      "metadata": {
        "colab": {
          "base_uri": "https://localhost:8080/"
        },
        "id": "PiIA1_SM9h8k",
        "outputId": "3ca8b098-9265-481f-bd38-0726770ed7f5"
      },
      "execution_count": 70,
      "outputs": [
        {
          "output_type": "stream",
          "name": "stdout",
          "text": [
            "torch.Size([4, 5, 16, 16])\n"
          ]
        }
      ]
    },
    {
      "cell_type": "code",
      "source": [
        "sample = out[0,1,:,:]\n",
        "plt.figure(figsize=(2,2))\n",
        "plt.imshow(sample.detach().numpy())\n",
        "plt.show()\n"
      ],
      "metadata": {
        "colab": {
          "base_uri": "https://localhost:8080/",
          "height": 157
        },
        "id": "QVXK0cPZ9lwD",
        "outputId": "429e73d5-116d-46e6-cf46-e6b1666bae4d"
      },
      "execution_count": 71,
      "outputs": [
        {
          "output_type": "display_data",
          "data": {
            "text/plain": [
              "<Figure size 144x144 with 1 Axes>"
            ],
            "image/png": "[encoded data removed]"
          },
          "metadata": {
            "needs_background": "light"
          }
        }
      ]
    },
    {
      "cell_type": "code",
      "source": [
        "# pooling\n",
        "#Mean pool or AVg pool and Max pool\n",
        "\n",
        "\n",
        "class max_pool(nn.Module):\n",
        "  def __init__(self):\n",
        "    super(max_pool,self).__init__()\n",
        "    self.model=nn.Sequential(nn.Conv2d(3,10,3,padding=(1,1),stride=(1,1)),nn.Conv2d(10,5,3,padding=(1,1),\n",
        "                                                                                    stride=(1,1)),nn.AvgPool2d(2, stride = 2))# kernel size, stride\n",
        "\n",
        "  def forward(self,x):\n",
        "    y=self.model(x)\n",
        "    return y"
      ],
      "metadata": {
        "id": "5JwBBHvq9sHz"
      },
      "execution_count": 73,
      "outputs": []
    },
    {
      "cell_type": "code",
      "source": [
        "maxpool = max_pool()\n",
        "out = abgpool(images)\n",
        "print(out.shape)"
      ],
      "metadata": {
        "colab": {
          "base_uri": "https://localhost:8080/"
        },
        "id": "ttGgS9gQ97Ar",
        "outputId": "128d33d1-1304-4c57-d2b7-8816ef568172"
      },
      "execution_count": 74,
      "outputs": [
        {
          "output_type": "stream",
          "name": "stdout",
          "text": [
            "torch.Size([4, 5, 16, 16])\n"
          ]
        }
      ]
    },
    {
      "cell_type": "code",
      "source": [
        "sample = out[0,1,:,:]\n",
        "plt.figure(figsize=(2,2))\n",
        "plt.imshow(sample.detach().numpy())\n",
        "plt.show()\n"
      ],
      "metadata": {
        "colab": {
          "base_uri": "https://localhost:8080/",
          "height": 157
        },
        "id": "OxcK3Kvs-Hoq",
        "outputId": "074ccc35-65ea-4ca1-d69e-9d83d8e1a70e"
      },
      "execution_count": 75,
      "outputs": [
        {
          "output_type": "display_data",
          "data": {
            "text/plain": [
              "<Figure size 144x144 with 1 Axes>"
            ],
            "image/png": "[encoded data removed]"
          },
          "metadata": {
            "needs_background": "light"
          }
        }
      ]
    }
  ]
}